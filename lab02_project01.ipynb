{
  "cells": [
    {
      "cell_type": "markdown",
      "metadata": {
        "id": "hAWk99_nd8ha"
      },
      "source": [
        "## Đồ án 1 - Color Compression <a class=\"anchor\" id=\"c2\"></a>"
      ]
    },
    {
      "cell_type": "markdown",
      "metadata": {
        "id": "tjdZlUhCd8hb"
      },
      "source": [
        "### Nội dung đồ án <a class=\"anchor\" id=\"c21\"></a>"
      ]
    },
    {
      "cell_type": "markdown",
      "metadata": {
        "id": "ADMg_XKad8hc"
      },
      "source": [
        "#### Giới thiệu"
      ]
    },
    {
      "cell_type": "markdown",
      "metadata": {
        "id": "8u6x0LzEd8hd"
      },
      "source": [
        "Một bức ảnh có thể lưu trữ dưới ma trận của các điểm ảnh. Có nhiều loại ảnh được sử dụng trong thực tế, ví dụ: ảnh xám, ảnh màu,...\n",
        "\n",
        "Đối với ảnh xám, một điểm ảnh sẽ là được biểu diễn bằng giá trị không âm.\n",
        "\n",
        "Ví dụ ta có thể dùng ma trận này:\n",
        "$$\\begin{bmatrix}\n",
        "255 & 0 & 0  & 0  & 255 \\\\\n",
        "255 & 0 & 255 & 0 & 255\\\\\n",
        "255 & 0 & 255 & 0 & 255\\\\\n",
        "255 & 0 & 255 & 0 & 255\\\\\n",
        "255 & 0 & 0  & 0  & 255\n",
        "\\end{bmatrix}$$\n",
        "\n",
        "có thể biểu diễn cho ảnh xám có nội dung như sau:"
      ]
    },
    {
      "cell_type": "code",
      "execution_count": null,
      "metadata": {
        "scrolled": true,
        "id": "FCQT1UG0d8he"
      },
      "outputs": [],
      "source": [
        "import matplotlib.pyplot as plt\n",
        "plt.imshow(np.array([[255, 0, 0, 0, 255],\n",
        "                     [255, 0, 255, 0, 255],\n",
        "                     [255, 0, 255, 0, 255],\n",
        "                     [255, 0, 255, 0, 255],\n",
        "                     [255, 0, 0, 0, 255]]), cmap='gray', vmin=0, vmax=255);"
      ]
    },
    {
      "cell_type": "markdown",
      "metadata": {
        "id": "-E_yZgp2d8hf"
      },
      "source": [
        "Ảnh màu được sử dụng phổ biến là ảnh RGB, trong đó, mỗi điểm ảnh sẽ lưu trữ 3 thông tin kênh màu (mỗi kênh màu 1 byte) là: R (red - đỏ), G (green - xanh lá), B (blue - xanh dương). Ta có thể sử dụng ma trận:\n",
        "```\n",
        "                    [[[255, 255, 255], [255, 0, 0], [255, 0, 0], [255, 0, 0], [255, 255, 255]],\n",
        "                     [[255, 255, 255], [255, 0, 0], [255, 255, 255], [255, 0, 0], [255, 255, 255]],\n",
        "                     [[255, 255, 255], [255, 0, 0], [255, 255, 255], [255, 0, 0], [255, 255, 255]],\n",
        "                     [[255, 255, 255], [255, 0, 0], [255, 255, 255], [255, 0, 0], [255, 255, 255]],\n",
        "                     [[255, 255, 255], [255, 0, 0], [255, 0, 0], [255, 0, 0], [255, 255, 255]]]\n",
        "```\n",
        "để biểu diễn cho ảnh màu có nội dung sau:"
      ]
    },
    {
      "cell_type": "code",
      "execution_count": null,
      "metadata": {
        "scrolled": true,
        "id": "dSN_j7fhd8hh"
      },
      "outputs": [],
      "source": [
        "plt.imshow(np.array([[[255, 255, 255], [255, 0, 0], [255, 0, 0], [255, 0, 0], [255, 255, 255]],\n",
        "                     [[255, 255, 255], [255, 0, 0], [255, 255, 255], [255, 0, 0], [255, 255, 255]],\n",
        "                     [[255, 255, 255], [255, 0, 0], [255, 255, 255], [255, 0, 0], [255, 255, 255]],\n",
        "                     [[255, 255, 255], [255, 0, 0], [255, 255, 255], [255, 0, 0], [255, 255, 255]],\n",
        "                     [[255, 255, 255], [255, 0, 0], [255, 0, 0], [255, 0, 0], [255, 255, 255]]]));"
      ]
    },
    {
      "cell_type": "markdown",
      "metadata": {
        "id": "ggNaoFmjd8hi"
      },
      "source": [
        "Như vậy, số màu trong ảnh RGB có thể là $256^3 \\approx 1.7 \\times 10^7$. Với số lượng màu khá lớn, khi lưu trữ ảnh có thể sẽ tốn chi phí lưu trữ. Do đó bài toán đặt ra là giảm số lượng màu để biểu diễn ảnh sao cho nội dung ảnh được bảo toàn nhất có thể.\n",
        "\n",
        "Cho ảnh như sau:\n",
        "\n",
        "![img](https://imgur.com/8aG74W6.jpg)\n",
        "\n",
        "Trong ví dụ trên, số lượng màu cho ảnh ban đầu là 145856 màu. Sau khi giảm số lượng màu xuống còn 7, ảnh không còn được chi tiết nhưng cơ bản vẫn bảo toàn nội dung của ảnh ban đầu.\n",
        "\n",
        "Nguồn ảnh: Photo by Smileus on Getty Images·\n",
        "\n",
        "Để thực hiện giảm số lượng màu, ta cần tìm ra các đại diện có thể thay thế cho một nhóm màu. Cụ thể trong trường hợp ảnh RGB, ta cần thực hiện gom nhóm các pixel $(\\mathbb{R}^3)$ và chọn ra đại diện cho từng nhóm. Như vậy, bài toán trên trở thành gom nhóm các vec-tơ."
      ]
    },
    {
      "cell_type": "markdown",
      "metadata": {
        "id": "7hcfMZwRd8hk"
      },
      "source": [
        "#### Yêu cầu"
      ]
    },
    {
      "cell_type": "markdown",
      "metadata": {
        "id": "nX4Axf-Zd8hk"
      },
      "source": [
        "Trong đồ án này, bạn được yêu cầu cài đặt chương trình giảm số lượng màu cho ảnh sử dụng thuật toán [K-Means](https://en.wikipedia.org/wiki/K-means_clustering).\n",
        "\n",
        "Cụ thể:\n",
        "- Sử dụng ngôn ngữ lập trình Python\n",
        "- Cài đặt các hàm yêu cầu trong tập tin Jupyter Notebook `MSSV.ipynb` được đính kèm:\n",
        "    - Đọc ảnh\n",
        "    - Hiển thị ảnh\n",
        "    - Lưu ảnh\n",
        "    - Chuyển đổi ảnh từ kích thước 2D (height, width, channels) sang 1D (height $\\times$ width, channels)\n",
        "    - Gom nhóm màu sử dụng K-Means\n",
        "    - Tạo ảnh mới từ các màu trung tâm (từ K-Means)\n",
        "    - Hàm main:\n",
        "        - Cho phép nhập vào tên tập tin ảnh mỗi lần chương trình thực thi (gợi ý sử dụng `input()` trong Python)\n",
        "        - Cho phép lưu ảnh với tối thiểu 2 định dạng là pdf và png\n",
        "- Các thư viện được phép sử dụng:\n",
        "    - `NumPy` (tính toán ma trận)\n",
        "    - `PIL` (đọc, ghi ảnh)\n",
        "    - `matplotlib` (hiển thị ảnh)\n",
        "\n",
        "<font style=\"color:red\">*Lưu ý: Không sử dụng K-Means đã được cài đặt sẵn trong các thư viện trong bài nộp. Sinh viên có thể sử dụng K-Means trong `scikit-learn` ĐỂ KIỂM TRA (và xóa đi trước khi nộp bài).* </font>\n"
      ]
    },
    {
      "cell_type": "markdown",
      "metadata": {
        "id": "dxq4zKrId8hm"
      },
      "source": [
        "### Quy định bài nộp <a class=\"anchor\" id=\"c22\"></a>"
      ]
    },
    {
      "cell_type": "markdown",
      "metadata": {
        "id": "Si5jvYQkd8hm"
      },
      "source": [
        "- Thực hiện toàn bộ bài làm trên 1 tập tin Jupyter Notebook (.ipynb)\n",
        "\n",
        "\n",
        "- Bạn nộp tập tin `MSSV.zip` được nén từ thư mục MSSV chứa các tập tin sau:\n",
        "    1. Báo cáo toàn bộ bài làm: `MSSV.pdf`\n",
        "    2. Mã nguồn: `MSSV.ipynb`\n",
        "\n",
        "\n",
        "- Trong đó, nội dung tập tin báo cáo gồm có:\n",
        "    - Thông tin cá nhân: Họ và tên, MSSV, lớp\n",
        "    - Ý tưởng thực hiện, mô tả các hàm\n",
        "    - Hình ảnh kết quả với từng số lượng màu, `k = {3, 5, 7}`. Sinh viên có thể thử nghiệm thêm `k` khác\n",
        "    - **Nhận xét kết quả trên**\n",
        "    - Báo cáo cần có số trang và tài liệu tham khảo\n",
        "    \n",
        "- Tập tin `MSSV.zip` không vượt quá 20MB. Ví dụ minh họa cây thư mục bài nộp sau khi giải nén tập tin `MSSV.zip` như sau:\n",
        "    ```\n",
        "    MSSV\n",
        "    ├── MSSV.pdf\n",
        "    └── MSSV.ipynb\n",
        "    ```\n",
        "\n",
        "- Ví dụ minh họa cho báo cáo có cấu trúc rõ ràng (có thể dùng cho những đồ án sau):\n",
        "    ```.pdf\n",
        "    Trang bìa: tên môn, tên đồ án, thông tin cá nhân\n",
        "    Trang mục lục\n",
        "    Phần I. Ý tưởng thực hiện: tổng quan về đồ án, input output, mục tiêu, ý tưởng giải quyết\n",
        "    Phần II. Chi tiết thực hiện:  cấu trúc chương trình (gồm hàm nào, để làm gì), mô tả các hàm chính là cốt lõi/ hoặc các cải tiến của mình (KHÔNG copy code)\n",
        "        Hàm ABCD[1][3] ...\n",
        "    Phần III. Kết quả và kết luận: phân tích các kết quả đạt được, nhận xét/kết luận về kết quả đạt được\n",
        "    Phần IV. Tài liệu tham khảo:\n",
        "    1. Tên tác giả, Tên sách, Chương tham khảo, Nhà xuất bản, năm xuất bản\n",
        "    2. Tên tác giả, Tên bài báo, Tên hội nghị/tạp chí, năm xuất bản\n",
        "    3. Tên tác giả, Tên bài viết, URL, ngày truy cập thông tin tham khảo\n",
        "    4. Tên tác giả, Tên slide/lecture note [PP Slide/Lecture note], URL\n",
        "    Phần V. Acknowledgement:\n",
        "        Đồ án có sự giúp đỡ của bạn/anh/chị/em/chú/bác ... ABCD trong phần code hàm XYZ , ... Ngoài ra, đồ án có sự hỗ trợ cùa ChatGPT/Gemini/Deepseek,... trong phần viết báo cáo mục I, viết code hàm XYZ, ...\n",
        "    ```"
      ]
    },
    {
      "cell_type": "markdown",
      "metadata": {
        "id": "gZkScoICd8hp"
      },
      "source": [
        "### Quy định chấm bài <a class=\"anchor\" id=\"c23\"></a>"
      ]
    },
    {
      "cell_type": "markdown",
      "metadata": {
        "id": "vZJ9vpjCd8hp"
      },
      "source": [
        "Đồ án chiếm **10%** tổng điểm môn học.\n",
        "\n",
        "Những trường hợp sau đây sẽ bị 0 điểm toàn bộ đồ án:\n",
        "- Nộp sai quy định\n",
        "- Không nộp báo cáo/mã nguồn\n",
        "- Thực thi mã nguồn báo lỗi\n",
        "- Không có phần tài liệu tham khảo và trích dẫn [] cần thiết\n",
        "\n",
        "<font style=\"color:red\">**LƯU Ý:\n",
        "- Các bài làm giống nhau (báo cáo hoặc mã nguồn) sẽ nhận 0 điểm toàn bộ phần thực hành\n",
        "- Những trường hợp lạm dụng các công cụ AI hỗ trợ mà KHÔNG hiểu bài sẽ bị xem xét như cheating và 0 điểm phần thực hành. Việc kiểm tra hiểu bài sẽ được thực hiện ngẫu nhiên qua việc lên bảng sửa bài hoặc vấn đáp\n",
        "</font>"
      ]
    }
  ],
  "metadata": {
    "kernelspec": {
      "display_name": "Python 3",
      "name": "python3"
    },
    "language_info": {
      "codemirror_mode": {
        "name": "ipython",
        "version": 3
      },
      "file_extension": ".py",
      "mimetype": "text/x-python",
      "name": "python",
      "nbconvert_exporter": "python",
      "pygments_lexer": "ipython3",
      "version": "3.13.2"
    },
    "colab": {
      "provenance": []
    }
  },
  "nbformat": 4,
  "nbformat_minor": 0
}